{
 "cells": [
  {
   "cell_type": "markdown",
   "metadata": {},
   "source": [
    "### ML Project 1: BMW Price Prediction (P2)"
   ]
  },
  {
   "cell_type": "code",
   "execution_count": 1,
   "metadata": {},
   "outputs": [],
   "source": [
    "import numpy as np\n",
    "import pandas as pd\n",
    "import matplotlib.pyplot as plt\n",
    "import seaborn as sns"
   ]
  },
  {
   "cell_type": "code",
   "execution_count": 2,
   "metadata": {},
   "outputs": [],
   "source": [
    "# import libraries to build dp neural network\n",
    "import tensorflow as tf\n",
    "from tensorflow import keras \n",
    "from keras.layers import Dense, Normalization\n",
    "from keras.models import Sequential"
   ]
  },
  {
   "cell_type": "markdown",
   "metadata": {},
   "source": [
    "## Problem Context"
   ]
  },
  {
   "cell_type": "markdown",
   "metadata": {},
   "source": [
    "In this project, wer are working bmw dataset spefically focused on bmw series model to predict the car price based on given features to increase price accuracy. "
   ]
  },
  {
   "cell_type": "code",
   "execution_count": 3,
   "metadata": {},
   "outputs": [
    {
     "data": {
      "text/html": [
       "<div>\n",
       "<style scoped>\n",
       "    .dataframe tbody tr th:only-of-type {\n",
       "        vertical-align: middle;\n",
       "    }\n",
       "\n",
       "    .dataframe tbody tr th {\n",
       "        vertical-align: top;\n",
       "    }\n",
       "\n",
       "    .dataframe thead th {\n",
       "        text-align: right;\n",
       "    }\n",
       "</style>\n",
       "<table border=\"1\" class=\"dataframe\">\n",
       "  <thead>\n",
       "    <tr style=\"text-align: right;\">\n",
       "      <th></th>\n",
       "      <th>Model</th>\n",
       "      <th>Year</th>\n",
       "      <th>Price</th>\n",
       "      <th>Transmission</th>\n",
       "      <th>Mileage</th>\n",
       "      <th>Fuel_type</th>\n",
       "      <th>Tax</th>\n",
       "      <th>Fuel_cons_mpg</th>\n",
       "      <th>Engine_size</th>\n",
       "      <th>Automatic</th>\n",
       "      <th>Manual</th>\n",
       "      <th>Semi-Auto</th>\n",
       "    </tr>\n",
       "  </thead>\n",
       "  <tbody>\n",
       "    <tr>\n",
       "      <th>0</th>\n",
       "      <td>5 Series</td>\n",
       "      <td>2014</td>\n",
       "      <td>11200</td>\n",
       "      <td>Automatic</td>\n",
       "      <td>67068</td>\n",
       "      <td>1</td>\n",
       "      <td>125</td>\n",
       "      <td>57.6</td>\n",
       "      <td>2.0</td>\n",
       "      <td>1</td>\n",
       "      <td>0</td>\n",
       "      <td>0</td>\n",
       "    </tr>\n",
       "    <tr>\n",
       "      <th>1</th>\n",
       "      <td>6 Series</td>\n",
       "      <td>2018</td>\n",
       "      <td>27000</td>\n",
       "      <td>Automatic</td>\n",
       "      <td>14827</td>\n",
       "      <td>2</td>\n",
       "      <td>145</td>\n",
       "      <td>42.8</td>\n",
       "      <td>2.0</td>\n",
       "      <td>1</td>\n",
       "      <td>0</td>\n",
       "      <td>0</td>\n",
       "    </tr>\n",
       "    <tr>\n",
       "      <th>2</th>\n",
       "      <td>5 Series</td>\n",
       "      <td>2016</td>\n",
       "      <td>16000</td>\n",
       "      <td>Automatic</td>\n",
       "      <td>62794</td>\n",
       "      <td>1</td>\n",
       "      <td>160</td>\n",
       "      <td>51.4</td>\n",
       "      <td>3.0</td>\n",
       "      <td>1</td>\n",
       "      <td>0</td>\n",
       "      <td>0</td>\n",
       "    </tr>\n",
       "    <tr>\n",
       "      <th>3</th>\n",
       "      <td>1 Series</td>\n",
       "      <td>2017</td>\n",
       "      <td>12750</td>\n",
       "      <td>Automatic</td>\n",
       "      <td>26676</td>\n",
       "      <td>1</td>\n",
       "      <td>145</td>\n",
       "      <td>72.4</td>\n",
       "      <td>1.5</td>\n",
       "      <td>1</td>\n",
       "      <td>0</td>\n",
       "      <td>0</td>\n",
       "    </tr>\n",
       "    <tr>\n",
       "      <th>4</th>\n",
       "      <td>7 Series</td>\n",
       "      <td>2014</td>\n",
       "      <td>14500</td>\n",
       "      <td>Automatic</td>\n",
       "      <td>39554</td>\n",
       "      <td>1</td>\n",
       "      <td>160</td>\n",
       "      <td>50.4</td>\n",
       "      <td>3.0</td>\n",
       "      <td>1</td>\n",
       "      <td>0</td>\n",
       "      <td>0</td>\n",
       "    </tr>\n",
       "  </tbody>\n",
       "</table>\n",
       "</div>"
      ],
      "text/plain": [
       "       Model  Year  Price Transmission  Mileage  Fuel_type  Tax  \\\n",
       "0   5 Series  2014  11200    Automatic    67068          1  125   \n",
       "1   6 Series  2018  27000    Automatic    14827          2  145   \n",
       "2   5 Series  2016  16000    Automatic    62794          1  160   \n",
       "3   1 Series  2017  12750    Automatic    26676          1  145   \n",
       "4   7 Series  2014  14500    Automatic    39554          1  160   \n",
       "\n",
       "   Fuel_cons_mpg  Engine_size  Automatic  Manual  Semi-Auto  \n",
       "0           57.6          2.0          1       0          0  \n",
       "1           42.8          2.0          1       0          0  \n",
       "2           51.4          3.0          1       0          0  \n",
       "3           72.4          1.5          1       0          0  \n",
       "4           50.4          3.0          1       0          0  "
      ]
     },
     "execution_count": 3,
     "metadata": {},
     "output_type": "execute_result"
    }
   ],
   "source": [
    "# load bmw dataset\n",
    "bmw_data = pd.read_csv(\"bmw_numeric_dataset.csv\", index_col=0)\n",
    "bmw_data.head()"
   ]
  },
  {
   "cell_type": "markdown",
   "metadata": {},
   "source": [
    "### Project Task List"
   ]
  },
  {
   "cell_type": "markdown",
   "metadata": {},
   "source": [
    "+ Making feature correlation analysis to do a feature selection\n",
    "+ Feature Scaling and Engineering\n",
    "+ Preprocessing data using data normalisation\n",
    "+ Building a neural network to do model training\n",
    "+ Train and test the model using scikit-learn library\n",
    "+ Evaluate model's performance and its accuracy\n",
    "\n",
    "**ML Workflow**: \n",
    "\n",
    "EDA(Correlation Analysis) --> Data Preprocessing --> Model Building --> Model Training --> Model Selection --> Model Evaluation "
   ]
  },
  {
   "cell_type": "code",
   "execution_count": 4,
   "metadata": {},
   "outputs": [
    {
     "name": "stdout",
     "output_type": "stream",
     "text": [
      "<class 'pandas.core.frame.DataFrame'>\n",
      "Index: 10664 entries, 0 to 10780\n",
      "Data columns (total 12 columns):\n",
      " #   Column         Non-Null Count  Dtype  \n",
      "---  ------         --------------  -----  \n",
      " 0   Model          10664 non-null  object \n",
      " 1   Year           10664 non-null  int64  \n",
      " 2   Price          10664 non-null  int64  \n",
      " 3   Transmission   10664 non-null  object \n",
      " 4   Mileage        10664 non-null  int64  \n",
      " 5   Fuel_type      10664 non-null  int64  \n",
      " 6   Tax            10664 non-null  int64  \n",
      " 7   Fuel_cons_mpg  10664 non-null  float64\n",
      " 8   Engine_size    10664 non-null  float64\n",
      " 9   Automatic      10664 non-null  int64  \n",
      " 10  Manual         10664 non-null  int64  \n",
      " 11  Semi-Auto      10664 non-null  int64  \n",
      "dtypes: float64(2), int64(8), object(2)\n",
      "memory usage: 1.1+ MB\n"
     ]
    }
   ],
   "source": [
    "# identify bmw dataset\n",
    "bmw_data.info()"
   ]
  },
  {
   "cell_type": "code",
   "execution_count": 5,
   "metadata": {},
   "outputs": [
    {
     "data": {
      "text/plain": [
       "array([' 5 Series', ' 6 Series', ' 1 Series', ' 7 Series', ' 2 Series',\n",
       "       ' 4 Series', ' X3', ' 3 Series', ' X5', ' X4', ' i3', ' X1', ' M4',\n",
       "       ' X2', ' X6', ' 8 Series', ' Z4', ' X7', ' M5', ' i8', ' M2',\n",
       "       ' M3', ' M6', ' Z3'], dtype=object)"
      ]
     },
     "execution_count": 5,
     "metadata": {},
     "output_type": "execute_result"
    }
   ],
   "source": [
    "# identify bmw models\n",
    "bmw_data[\"Model\"].unique()"
   ]
  },
  {
   "cell_type": "code",
   "execution_count": 6,
   "metadata": {},
   "outputs": [
    {
     "data": {
      "text/html": [
       "<div>\n",
       "<style scoped>\n",
       "    .dataframe tbody tr th:only-of-type {\n",
       "        vertical-align: middle;\n",
       "    }\n",
       "\n",
       "    .dataframe tbody tr th {\n",
       "        vertical-align: top;\n",
       "    }\n",
       "\n",
       "    .dataframe thead th {\n",
       "        text-align: right;\n",
       "    }\n",
       "</style>\n",
       "<table border=\"1\" class=\"dataframe\">\n",
       "  <thead>\n",
       "    <tr style=\"text-align: right;\">\n",
       "      <th></th>\n",
       "      <th>Model</th>\n",
       "      <th>Year</th>\n",
       "      <th>Price</th>\n",
       "      <th>Transmission</th>\n",
       "      <th>Mileage</th>\n",
       "      <th>Fuel_type</th>\n",
       "      <th>Tax</th>\n",
       "      <th>Fuel_cons_mpg</th>\n",
       "      <th>Engine_size</th>\n",
       "      <th>Automatic</th>\n",
       "      <th>Manual</th>\n",
       "      <th>Semi-Auto</th>\n",
       "    </tr>\n",
       "  </thead>\n",
       "  <tbody>\n",
       "    <tr>\n",
       "      <th>0</th>\n",
       "      <td>5 Series</td>\n",
       "      <td>2014</td>\n",
       "      <td>11200</td>\n",
       "      <td>Automatic</td>\n",
       "      <td>67068</td>\n",
       "      <td>1</td>\n",
       "      <td>125</td>\n",
       "      <td>57.6</td>\n",
       "      <td>2.0</td>\n",
       "      <td>1</td>\n",
       "      <td>0</td>\n",
       "      <td>0</td>\n",
       "    </tr>\n",
       "    <tr>\n",
       "      <th>1</th>\n",
       "      <td>6 Series</td>\n",
       "      <td>2018</td>\n",
       "      <td>27000</td>\n",
       "      <td>Automatic</td>\n",
       "      <td>14827</td>\n",
       "      <td>2</td>\n",
       "      <td>145</td>\n",
       "      <td>42.8</td>\n",
       "      <td>2.0</td>\n",
       "      <td>1</td>\n",
       "      <td>0</td>\n",
       "      <td>0</td>\n",
       "    </tr>\n",
       "    <tr>\n",
       "      <th>2</th>\n",
       "      <td>5 Series</td>\n",
       "      <td>2016</td>\n",
       "      <td>16000</td>\n",
       "      <td>Automatic</td>\n",
       "      <td>62794</td>\n",
       "      <td>1</td>\n",
       "      <td>160</td>\n",
       "      <td>51.4</td>\n",
       "      <td>3.0</td>\n",
       "      <td>1</td>\n",
       "      <td>0</td>\n",
       "      <td>0</td>\n",
       "    </tr>\n",
       "    <tr>\n",
       "      <th>3</th>\n",
       "      <td>1 Series</td>\n",
       "      <td>2017</td>\n",
       "      <td>12750</td>\n",
       "      <td>Automatic</td>\n",
       "      <td>26676</td>\n",
       "      <td>1</td>\n",
       "      <td>145</td>\n",
       "      <td>72.4</td>\n",
       "      <td>1.5</td>\n",
       "      <td>1</td>\n",
       "      <td>0</td>\n",
       "      <td>0</td>\n",
       "    </tr>\n",
       "    <tr>\n",
       "      <th>4</th>\n",
       "      <td>7 Series</td>\n",
       "      <td>2014</td>\n",
       "      <td>14500</td>\n",
       "      <td>Automatic</td>\n",
       "      <td>39554</td>\n",
       "      <td>1</td>\n",
       "      <td>160</td>\n",
       "      <td>50.4</td>\n",
       "      <td>3.0</td>\n",
       "      <td>1</td>\n",
       "      <td>0</td>\n",
       "      <td>0</td>\n",
       "    </tr>\n",
       "    <tr>\n",
       "      <th>...</th>\n",
       "      <td>...</td>\n",
       "      <td>...</td>\n",
       "      <td>...</td>\n",
       "      <td>...</td>\n",
       "      <td>...</td>\n",
       "      <td>...</td>\n",
       "      <td>...</td>\n",
       "      <td>...</td>\n",
       "      <td>...</td>\n",
       "      <td>...</td>\n",
       "      <td>...</td>\n",
       "      <td>...</td>\n",
       "    </tr>\n",
       "    <tr>\n",
       "      <th>10772</th>\n",
       "      <td>1 Series</td>\n",
       "      <td>2017</td>\n",
       "      <td>10200</td>\n",
       "      <td>Manual</td>\n",
       "      <td>41435</td>\n",
       "      <td>1</td>\n",
       "      <td>0</td>\n",
       "      <td>83.1</td>\n",
       "      <td>1.5</td>\n",
       "      <td>0</td>\n",
       "      <td>1</td>\n",
       "      <td>0</td>\n",
       "    </tr>\n",
       "    <tr>\n",
       "      <th>10774</th>\n",
       "      <td>5 Series</td>\n",
       "      <td>2016</td>\n",
       "      <td>14300</td>\n",
       "      <td>Automatic</td>\n",
       "      <td>67530</td>\n",
       "      <td>1</td>\n",
       "      <td>30</td>\n",
       "      <td>62.8</td>\n",
       "      <td>2.0</td>\n",
       "      <td>1</td>\n",
       "      <td>0</td>\n",
       "      <td>0</td>\n",
       "    </tr>\n",
       "    <tr>\n",
       "      <th>10777</th>\n",
       "      <td>5 Series</td>\n",
       "      <td>2016</td>\n",
       "      <td>14600</td>\n",
       "      <td>Automatic</td>\n",
       "      <td>42947</td>\n",
       "      <td>1</td>\n",
       "      <td>125</td>\n",
       "      <td>60.1</td>\n",
       "      <td>2.0</td>\n",
       "      <td>1</td>\n",
       "      <td>0</td>\n",
       "      <td>0</td>\n",
       "    </tr>\n",
       "    <tr>\n",
       "      <th>10778</th>\n",
       "      <td>3 Series</td>\n",
       "      <td>2017</td>\n",
       "      <td>13100</td>\n",
       "      <td>Manual</td>\n",
       "      <td>25468</td>\n",
       "      <td>2</td>\n",
       "      <td>200</td>\n",
       "      <td>42.8</td>\n",
       "      <td>2.0</td>\n",
       "      <td>0</td>\n",
       "      <td>1</td>\n",
       "      <td>0</td>\n",
       "    </tr>\n",
       "    <tr>\n",
       "      <th>10779</th>\n",
       "      <td>1 Series</td>\n",
       "      <td>2014</td>\n",
       "      <td>9930</td>\n",
       "      <td>Automatic</td>\n",
       "      <td>45000</td>\n",
       "      <td>1</td>\n",
       "      <td>30</td>\n",
       "      <td>64.2</td>\n",
       "      <td>2.0</td>\n",
       "      <td>1</td>\n",
       "      <td>0</td>\n",
       "      <td>0</td>\n",
       "    </tr>\n",
       "  </tbody>\n",
       "</table>\n",
       "<p>7874 rows × 12 columns</p>\n",
       "</div>"
      ],
      "text/plain": [
       "           Model  Year  Price Transmission  Mileage  Fuel_type  Tax  \\\n",
       "0       5 Series  2014  11200    Automatic    67068          1  125   \n",
       "1       6 Series  2018  27000    Automatic    14827          2  145   \n",
       "2       5 Series  2016  16000    Automatic    62794          1  160   \n",
       "3       1 Series  2017  12750    Automatic    26676          1  145   \n",
       "4       7 Series  2014  14500    Automatic    39554          1  160   \n",
       "...          ...   ...    ...          ...      ...        ...  ...   \n",
       "10772   1 Series  2017  10200       Manual    41435          1    0   \n",
       "10774   5 Series  2016  14300    Automatic    67530          1   30   \n",
       "10777   5 Series  2016  14600    Automatic    42947          1  125   \n",
       "10778   3 Series  2017  13100       Manual    25468          2  200   \n",
       "10779   1 Series  2014   9930    Automatic    45000          1   30   \n",
       "\n",
       "       Fuel_cons_mpg  Engine_size  Automatic  Manual  Semi-Auto  \n",
       "0               57.6          2.0          1       0          0  \n",
       "1               42.8          2.0          1       0          0  \n",
       "2               51.4          3.0          1       0          0  \n",
       "3               72.4          1.5          1       0          0  \n",
       "4               50.4          3.0          1       0          0  \n",
       "...              ...          ...        ...     ...        ...  \n",
       "10772           83.1          1.5          0       1          0  \n",
       "10774           62.8          2.0          1       0          0  \n",
       "10777           60.1          2.0          1       0          0  \n",
       "10778           42.8          2.0          0       1          0  \n",
       "10779           64.2          2.0          1       0          0  \n",
       "\n",
       "[7874 rows x 12 columns]"
      ]
     },
     "execution_count": 6,
     "metadata": {},
     "output_type": "execute_result"
    }
   ],
   "source": [
    "# focus on retrieving bmw series models\n",
    "bmw_series = bmw_data[\"Model\"].str.contains(\"Series\")\n",
    "bmw_series = bmw_data[bmw_series]\n",
    "bmw_series"
   ]
  },
  {
   "cell_type": "code",
   "execution_count": 7,
   "metadata": {},
   "outputs": [
    {
     "name": "stdout",
     "output_type": "stream",
     "text": [
      "Number of BMW Series Samples: 7874\n",
      "Number of BMW Model Characteristics: 12\n"
     ]
    }
   ],
   "source": [
    "# retrieve shape of dataset\n",
    "m,n = bmw_series.shape\n",
    "print(f\"Number of BMW Series Samples: {m}\")\n",
    "print(f\"Number of BMW Model Characteristics: {n}\")"
   ]
  },
  {
   "cell_type": "markdown",
   "metadata": {},
   "source": [
    "### Correlation Analysis"
   ]
  },
  {
   "cell_type": "code",
   "execution_count": 8,
   "metadata": {},
   "outputs": [],
   "source": [
    "def correlation_analysis(auto_data,x,y):\n",
    "  # create a correlation map\n",
    "  auto_labels = [\"Transmission\", \"Model\"]\n",
    "  auto_num = auto_data.drop(columns=auto_labels, axis=1)\n",
    "  auto_corr = auto_num.corr()\n",
    "  \n",
    "\n",
    "  # create a heatmap to display correlation among features\n",
    "  plt.figure(figsize=(x,y), dpi=80)\n",
    "  sns.heatmap(auto_corr, annot=True)\n",
    "  \n",
    "  # add graph details\n",
    "\n",
    "  # display the heatmap \n",
    "  plt.show()"
   ]
  },
  {
   "cell_type": "code",
   "execution_count": 9,
   "metadata": {},
   "outputs": [
    {
     "data": {
      "image/png": "[encoded data removed]",
      "text/plain": [
       "<Figure size 1280x640 with 2 Axes>"
      ]
     },
     "metadata": {},
     "output_type": "display_data"
    }
   ],
   "source": [
    "# create correlation map\n",
    "correlation_analysis(bmw_series, 16,8)"
   ]
  },
  {
   "cell_type": "markdown",
   "metadata": {},
   "source": [
    "Features for training the model: \n",
    "+ predictors: Mileage, Fueltype, Tax, Fuel_cons_mpg, Engine_size\n",
    "+ target: Price\n",
    "+ binary values: automatic, manual, semi-auto"
   ]
  },
  {
   "cell_type": "markdown",
   "metadata": {},
   "source": [
    "### Model Training"
   ]
  },
  {
   "cell_type": "markdown",
   "metadata": {},
   "source": [
    "Consider the feature mileage and fuelconsumption to predict the price value. "
   ]
  },
  {
   "cell_type": "code",
   "execution_count": 10,
   "metadata": {},
   "outputs": [
    {
     "ename": "ModuleNotFoundError",
     "evalue": "No module named 'sklearn'",
     "output_type": "error",
     "traceback": [
      "\u001b[1;31m---------------------------------------------------------------------------\u001b[0m",
      "\u001b[1;31mModuleNotFoundError\u001b[0m                       Traceback (most recent call last)",
      "Cell \u001b[1;32mIn[10], line 1\u001b[0m\n\u001b[1;32m----> 1\u001b[0m \u001b[38;5;28;01mfrom\u001b[39;00m \u001b[38;5;21;01msklearn\u001b[39;00m\u001b[38;5;21;01m.\u001b[39;00m\u001b[38;5;21;01mmodel_selection\u001b[39;00m \u001b[38;5;28;01mimport\u001b[39;00m train_test_split\n",
      "\u001b[1;31mModuleNotFoundError\u001b[0m: No module named 'sklearn'"
     ]
    }
   ],
   "source": [
    "from sklearn.model_selection import train_test_split"
   ]
  },
  {
   "cell_type": "code",
   "execution_count": 11,
   "metadata": {},
   "outputs": [
    {
     "data": {
      "text/plain": [
       "Index(['Model', 'Year', 'Price', 'Transmission', 'Mileage', 'Fuel_type', 'Tax',\n",
       "       'Fuel_cons_mpg', 'Engine_size', 'Automatic', 'Manual', 'Semi-Auto'],\n",
       "      dtype='object')"
      ]
     },
     "execution_count": 11,
     "metadata": {},
     "output_type": "execute_result"
    }
   ],
   "source": [
    "bmw_series.columns"
   ]
  },
  {
   "cell_type": "code",
   "execution_count": 12,
   "metadata": {},
   "outputs": [],
   "source": [
    "# retrieve mileage and fuel consumption to train data\n",
    "in_features = bmw_series[[\"Mileage\",\"Fuel_cons_mpg\", \"Engine_size\",\"Manual\"]]\n",
    "out_feature = bmw_series[\"Price\"]\n",
    "\n",
    "xtrain_bmw, ytrain_bmw, xtest_bmw, ytest_bmw = train_test_split(in_features, out_feature, test_size=0.25, random_state=1234)"
   ]
  },
  {
   "cell_type": "code",
   "execution_count": 13,
   "metadata": {},
   "outputs": [],
   "source": [
    "# normalise dataset using Normalisation \n",
    "normalizer = Normalization()\n",
    "# normalizer.adapt(xtrain_bmw)"
   ]
  },
  {
   "cell_type": "code",
   "execution_count": 23,
   "metadata": {},
   "outputs": [],
   "source": [
    "# train the features \n",
    "def normalise_feature(feature, name):\n",
    "  # determine statistics\n",
    "  feature_mean = feature[name].mean()\n",
    "  feature_std = feature[name].std()\n",
    "\n",
    "  # determine z score\n",
    "  feature_z = (feature[name] - feature_mean)/feature_std\n",
    "  return feature_z\n",
    "\n",
    "# normalise feature data\n",
    "in_features[\"Mileage\"].transform(normalise_feature)\n"
   ]
  },
  {
   "cell_type": "code",
   "execution_count": 35,
   "metadata": {},
   "outputs": [],
   "source": [
    "in_feature_norm = in_features.copy()\n",
    "in_feature_norm[\"Mileage\"] = normalise_feature(xtrain_bmw, \"Mileage\")\n",
    "in_feature_norm[\"Fuel_cons_mpg\"] = normalise_feature(in_features, \"Fuel_cons_mpg\")\n",
    "in_feature_norm[\"Engine_size\"] = normalise_feature(in_features, \"Engine_size\")\n",
    "# normalise_feature(in_features, \"Mileage\")"
   ]
  },
  {
   "cell_type": "code",
   "execution_count": 36,
   "metadata": {},
   "outputs": [
    {
     "data": {
      "text/html": [
       "<div>\n",
       "<style scoped>\n",
       "    .dataframe tbody tr th:only-of-type {\n",
       "        vertical-align: middle;\n",
       "    }\n",
       "\n",
       "    .dataframe tbody tr th {\n",
       "        vertical-align: top;\n",
       "    }\n",
       "\n",
       "    .dataframe thead th {\n",
       "        text-align: right;\n",
       "    }\n",
       "</style>\n",
       "<table border=\"1\" class=\"dataframe\">\n",
       "  <thead>\n",
       "    <tr style=\"text-align: right;\">\n",
       "      <th></th>\n",
       "      <th>Mileage</th>\n",
       "      <th>Fuel_cons_mpg</th>\n",
       "      <th>Engine_size</th>\n",
       "      <th>Manual</th>\n",
       "    </tr>\n",
       "  </thead>\n",
       "  <tbody>\n",
       "    <tr>\n",
       "      <th>0</th>\n",
       "      <td>1.560254</td>\n",
       "      <td>0.009360</td>\n",
       "      <td>-0.210406</td>\n",
       "      <td>0</td>\n",
       "    </tr>\n",
       "    <tr>\n",
       "      <th>1</th>\n",
       "      <td>-0.480286</td>\n",
       "      <td>-0.850012</td>\n",
       "      <td>-0.210406</td>\n",
       "      <td>0</td>\n",
       "    </tr>\n",
       "    <tr>\n",
       "      <th>2</th>\n",
       "      <td>1.393311</td>\n",
       "      <td>-0.350647</td>\n",
       "      <td>1.784943</td>\n",
       "      <td>0</td>\n",
       "    </tr>\n",
       "    <tr>\n",
       "      <th>3</th>\n",
       "      <td>-0.017463</td>\n",
       "      <td>0.868731</td>\n",
       "      <td>-1.208081</td>\n",
       "      <td>0</td>\n",
       "    </tr>\n",
       "    <tr>\n",
       "      <th>4</th>\n",
       "      <td>0.485554</td>\n",
       "      <td>-0.408713</td>\n",
       "      <td>1.784943</td>\n",
       "      <td>0</td>\n",
       "    </tr>\n",
       "    <tr>\n",
       "      <th>...</th>\n",
       "      <td>...</td>\n",
       "      <td>...</td>\n",
       "      <td>...</td>\n",
       "      <td>...</td>\n",
       "    </tr>\n",
       "    <tr>\n",
       "      <th>10772</th>\n",
       "      <td>0.559026</td>\n",
       "      <td>1.490033</td>\n",
       "      <td>-1.208081</td>\n",
       "      <td>1</td>\n",
       "    </tr>\n",
       "    <tr>\n",
       "      <th>10774</th>\n",
       "      <td>1.578300</td>\n",
       "      <td>0.311301</td>\n",
       "      <td>-0.210406</td>\n",
       "      <td>0</td>\n",
       "    </tr>\n",
       "    <tr>\n",
       "      <th>10777</th>\n",
       "      <td>0.618085</td>\n",
       "      <td>0.154524</td>\n",
       "      <td>-0.210406</td>\n",
       "      <td>0</td>\n",
       "    </tr>\n",
       "    <tr>\n",
       "      <th>10778</th>\n",
       "      <td>-0.064647</td>\n",
       "      <td>-0.850012</td>\n",
       "      <td>-0.210406</td>\n",
       "      <td>1</td>\n",
       "    </tr>\n",
       "    <tr>\n",
       "      <th>10779</th>\n",
       "      <td>0.698275</td>\n",
       "      <td>0.392593</td>\n",
       "      <td>-0.210406</td>\n",
       "      <td>0</td>\n",
       "    </tr>\n",
       "  </tbody>\n",
       "</table>\n",
       "<p>7874 rows × 4 columns</p>\n",
       "</div>"
      ],
      "text/plain": [
       "        Mileage  Fuel_cons_mpg  Engine_size  Manual\n",
       "0      1.560254       0.009360    -0.210406       0\n",
       "1     -0.480286      -0.850012    -0.210406       0\n",
       "2      1.393311      -0.350647     1.784943       0\n",
       "3     -0.017463       0.868731    -1.208081       0\n",
       "4      0.485554      -0.408713     1.784943       0\n",
       "...         ...            ...          ...     ...\n",
       "10772  0.559026       1.490033    -1.208081       1\n",
       "10774  1.578300       0.311301    -0.210406       0\n",
       "10777  0.618085       0.154524    -0.210406       0\n",
       "10778 -0.064647      -0.850012    -0.210406       1\n",
       "10779  0.698275       0.392593    -0.210406       0\n",
       "\n",
       "[7874 rows x 4 columns]"
      ]
     },
     "execution_count": 36,
     "metadata": {},
     "output_type": "execute_result"
    }
   ],
   "source": [
    "in_feature_norm"
   ]
  },
  {
   "cell_type": "code",
   "execution_count": null,
   "metadata": {},
   "outputs": [],
   "source": [
    "# build a neural network model\n",
    "def neural_network_model(in_features):\n",
    "  # build a neural network model\n",
    "  n_features = in_features.shape[1]\n",
    "  model = Sequential()\n",
    "\n",
    "  # add layers\n",
    "  "
   ]
  },
  {
   "cell_type": "code",
   "execution_count": null,
   "metadata": {},
   "outputs": [],
   "source": []
  }
 ],
 "metadata": {
  "kernelspec": {
   "display_name": "pyenv311",
   "language": "python",
   "name": "python3"
  },
  "language_info": {
   "codemirror_mode": {
    "name": "ipython",
    "version": 3
   },
   "file_extension": ".py",
   "mimetype": "text/x-python",
   "name": "python",
   "nbconvert_exporter": "python",
   "pygments_lexer": "ipython3",
   "version": "3.12.4"
  }
 },
 "nbformat": 4,
 "nbformat_minor": 2
}
